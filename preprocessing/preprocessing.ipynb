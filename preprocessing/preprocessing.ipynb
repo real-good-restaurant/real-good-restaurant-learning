{
 "cells": [
  {
   "cell_type": "code",
   "execution_count": 1,
   "metadata": {},
   "outputs": [
    {
     "data": {
      "text/plain": [
       "0    힙하다 힙해!부산 버거샵이 압구정로데오로 ~!핫하다 핫해! 오늘은 압구정로데오 맛집...\n",
       "1    흥안양꼬치051-516-1181부산 금정구 수림로71번길 49(장전동)50m© NA...\n",
       "2    훗안녕하세요!! 제가 좋아하는 꼬기 꼬기 먹고왔어요!전 웬만하면 고기 퀄리티 때문에...\n",
       "3    회장님댁오랜만에 서면 1번가에서친구랑 놀다 왔어용 :)역시 하루의 마무리는 alco...\n",
       "4    회사 점심이 맛이 없어서밖에서 나가서 먹기로 결정!강서브라이트센터 길 건너에 골목 ...\n",
       "Name: 1, dtype: object"
      ]
     },
     "execution_count": 1,
     "metadata": {},
     "output_type": "execute_result"
    }
   ],
   "source": [
    "import pandas as pd\n",
    "\n",
    "# import data\n",
    "ad = pd.read_csv('./data_ad_all.csv', sep=',', encoding='utf-8', header=None)\n",
    "no_ad = pd.read_csv('./data_non_ad_all.csv', sep=',', encoding='utf-8', header=None)\n",
    "\n",
    "# split data\n",
    "X_ad = ad[1]\n",
    "y_ad = ad[0]\n",
    "X_no_ad = no_ad[1]\n",
    "y_no_ad = no_ad[0]\n",
    "\n",
    "X_ad.head()"
   ]
  },
  {
   "cell_type": "code",
   "execution_count": 3,
   "metadata": {},
   "outputs": [
    {
     "name": "stdout",
     "output_type": "stream",
     "text": [
      "7587    마장호수출렁다리맛집 죽여주네~안녕하세요, 현블리에요~파주 한우맛집으로 이미 이름을 ...\n",
      "4288    이번주에 소개할 전국맛집택배는일산 맛집인 더 누룽지의 해물누룽지탕!!해물누룽지탕 2...\n",
      "4761    잠실새내 맛집 원조부안집 잠실새내점을 소개받아서 친구들이랑 가게 됐어요. 집에서는 ...\n",
      "4801    잠실 롯데월드몰카페 타르타르에 다녀왔당지하1층 롯데리아 옆! 크록스 옆!세포라 건너...\n",
      "4228    일산소바맛집 일산돈까스추천 몽화50m© NAVER Corp.몽화경기도 고양시 일산동...\n",
      "Name: 1, dtype: object\n",
      "(18343,)\n"
     ]
    }
   ],
   "source": [
    "from sklearn.model_selection import train_test_split\n",
    "\n",
    "# 데이터 분리 \n",
    "X_ad_train, X_ad_test, y_ad_train, y_ad_test = train_test_split(X_ad, y_ad, test_size=0.1, shuffle=True, random_state=1)\n",
    "X_no_ad_train, X_no_ad_test, y_no_ad_train, y_no_ad_test = train_test_split(X_no_ad, y_no_ad, test_size=0.1, shuffle=True, random_state=1)\n",
    "\n",
    "X_train = pd.concat([X_ad_train, X_no_ad_train])\n",
    "X_test = pd.concat([X_ad_test, X_no_ad_test])\n",
    "y_train = pd.concat([y_ad_train, y_no_ad_train])\n",
    "y_test = pd.concat([y_ad_test, y_no_ad_test])\n",
    "print(X_train.head())\n",
    "print(X_train.shape)"
   ]
  },
  {
   "cell_type": "code",
   "execution_count": 4,
   "metadata": {},
   "outputs": [
    {
     "name": "stdout",
     "output_type": "stream",
     "text": [
      "       0                                                  1\n",
      "7587  AD  마장호수출렁다리맛집 죽여주네~안녕하세요, 현블리에요~파주 한우맛집으로 이미 이름을 ...\n",
      "4288  AD  이번주에 소개할 전국맛집택배는일산 맛집인 더 누룽지의 해물누룽지탕!!해물누룽지탕 2...\n",
      "4761  AD  잠실새내 맛집 원조부안집 잠실새내점을 소개받아서 친구들이랑 가게 됐어요. 집에서는 ...\n",
      "4801  AD  잠실 롯데월드몰카페 타르타르에 다녀왔당지하1층 롯데리아 옆! 크록스 옆!세포라 건너...\n",
      "4228  AD  일산소바맛집 일산돈까스추천 몽화50m© NAVER Corp.몽화경기도 고양시 일산동...\n",
      "       0                                                  1\n",
      "9290  AD  사실은 오월 어버이날 이라고 연차내서 여수로 가족여행계획을 세운거였는데요!시골집에 ...\n",
      "7421  AD  저번주말은 날씨도 좋고 해서 외출이 하고 싶더라구요. 날씨도 곧 바뀌니 쇼핑하러 아...\n",
      "3847  AD  오늘 소개할 곳은 홍대입구역 8번출구에서 가깝게 위치한 홍대 홍스쭈꾸미 입니다!홍대...\n",
      "5013  AD  안녕하세요요새 날씨가 너무 춥죠ㅠㅠ면역력 챙기는게 아주 중요하니 다들건강관리 조심하...\n",
      "3474  AD  경주여행갔다가 최고집사랑하면에서식사도 하고 왔어요 ㅎㅎ제 단골인 최고집사랑하면은MB...\n",
      "(18343, 2)\n",
      "(2039, 2)\n"
     ]
    }
   ],
   "source": [
    "train_data = pd.concat([y_train, X_train], axis=1)\n",
    "test_data = pd.concat([y_test, X_test], axis=1)\n",
    "\n",
    "print(train_data.head())\n",
    "print(test_data.head())\n",
    "print(train_data.shape)\n",
    "print(test_data.shape)"
   ]
  },
  {
   "cell_type": "code",
   "execution_count": 5,
   "metadata": {},
   "outputs": [],
   "source": [
    "from konlpy.tag import Mecab\n",
    "import re\n",
    "\n",
    "mecab = Mecab()\n",
    "\n",
    "def mecab_tokenize(text):\n",
    "    \"\"\"\n",
    "        Mecab을 사용하여 tokenized text 반환\n",
    "    \"\"\"\n",
    "    return \" \".join(mecab.morphs(text))\n",
    "\n",
    "def clean_etc_reg_ex(title):\n",
    "    \"\"\"\n",
    "        정규식을 통해 기타 공백과 기호, 숫자등을 제거\n",
    "    \"\"\"\n",
    "    title = re.sub(r'[@%\\\\*=()/~#&\\+á?\\xc3\\xa1\\-\\|\\.\\:\\;\\!\\-\\,\\_\\~\\$\\'\\\"]', '', title) #remove punctuation\n",
    "    title = re.sub(r'[∼%①②⑤⑪…→·]', '', title)\n",
    "    title = re.sub(r'\\d+', '', title) #remove number\n",
    "    title = re.sub(r'\\s+', ' ', title) #remove extra space\n",
    "    title = re.sub(r'<[^>]+>','',title) #remove Html tags\n",
    "    title = re.sub(r'\\s+', ' ', title) #remove spaces\n",
    "    title = re.sub(r\"^\\s+\", '', title) #remove space from start\n",
    "    title = re.sub(r'\\s+$', '', title) #remove space from the end\n",
    "    title = re.sub(\"[一-龥]\",'', title)\n",
    "    return title\n",
    "\n",
    "def label_to_idx(label, dic):\n",
    "    return dic[label]\n",
    "\n",
    "def slice_from_behind(text, num_of_chars):\n",
    "    return text[-num_of_chars:]\n"
   ]
  },
  {
   "cell_type": "code",
   "execution_count": 6,
   "metadata": {},
   "outputs": [
    {
     "data": {
      "text/html": [
       "<div>\n",
       "<style scoped>\n",
       "    .dataframe tbody tr th:only-of-type {\n",
       "        vertical-align: middle;\n",
       "    }\n",
       "\n",
       "    .dataframe tbody tr th {\n",
       "        vertical-align: top;\n",
       "    }\n",
       "\n",
       "    .dataframe thead th {\n",
       "        text-align: right;\n",
       "    }\n",
       "</style>\n",
       "<table border=\"1\" class=\"dataframe\">\n",
       "  <thead>\n",
       "    <tr style=\"text-align: right;\">\n",
       "      <th></th>\n",
       "      <th>0</th>\n",
       "      <th>1</th>\n",
       "    </tr>\n",
       "  </thead>\n",
       "  <tbody>\n",
       "    <tr>\n",
       "      <th>9290</th>\n",
       "      <td>1</td>\n",
       "      <td>없 는 양념 게딱지 드 시 려면 그쵸 여수 게장 맛집 여 수낭 만항 게장 으로 오 ...</td>\n",
       "    </tr>\n",
       "    <tr>\n",
       "      <th>7421</th>\n",
       "      <td>1</td>\n",
       "      <td>자 로운 양이 였 고 로제 파스타 도 소스 가 훌륭 했 던 곳 이 에요 더 티 트렁...</td>\n",
       "    </tr>\n",
       "    <tr>\n",
       "      <th>3847</th>\n",
       "      <td>1</td>\n",
       "      <td>콩나물 Loading 화질 선택 옵션 홍대 가 성비 맛집 홍대 홍 스 쭈꾸미영상으...</td>\n",
       "    </tr>\n",
       "    <tr>\n",
       "      <th>5013</th>\n",
       "      <td>1</td>\n",
       "      <td>이 라면 한 판 은 거뜬히 먹 겠 던데요 물론 다이어트 는 잊 고 말 이 죠 D 달...</td>\n",
       "    </tr>\n",
       "    <tr>\n",
       "      <th>3474</th>\n",
       "      <td>1</td>\n",
       "      <td>lovenudlemodooat 최고 집사 랑 하 면 네이버 방문자 리뷰 ★ 깊이 가...</td>\n",
       "    </tr>\n",
       "  </tbody>\n",
       "</table>\n",
       "</div>"
      ],
      "text/plain": [
       "      0                                                  1\n",
       "9290  1  없 는 양념 게딱지 드 시 려면 그쵸 여수 게장 맛집 여 수낭 만항 게장 으로 오 ...\n",
       "7421  1  자 로운 양이 였 고 로제 파스타 도 소스 가 훌륭 했 던 곳 이 에요 더 티 트렁...\n",
       "3847  1   콩나물 Loading 화질 선택 옵션 홍대 가 성비 맛집 홍대 홍 스 쭈꾸미영상으...\n",
       "5013  1  이 라면 한 판 은 거뜬히 먹 겠 던데요 물론 다이어트 는 잊 고 말 이 죠 D 달...\n",
       "3474  1  lovenudlemodooat 최고 집사 랑 하 면 네이버 방문자 리뷰 ★ 깊이 가..."
      ]
     },
     "execution_count": 6,
     "metadata": {},
     "output_type": "execute_result"
    }
   ],
   "source": [
    "# 특수기호 제거\n",
    "train_data[1] = train_data[1].apply(str).apply(clean_etc_reg_ex)\n",
    "test_data[1] = test_data[1].apply(str).apply(clean_etc_reg_ex)\n",
    "\n",
    "# label to idx\n",
    "train_data[0] = train_data[0].apply(label_to_idx, dic={\"AD\":\"1\", \"NO_AD\":\"0\"})\n",
    "test_data[0] = test_data[0].apply(label_to_idx, dic={\"AD\":\"1\", \"NO_AD\":\"0\"})\n",
    "\n",
    "# mecab tokenize\n",
    "train_data[1] = train_data[1].apply(str).apply(mecab_tokenize)\n",
    "test_data[1] = test_data[1].apply(str).apply(mecab_tokenize)\n",
    "\n",
    "# SLICE\n",
    "train_data[1] = train_data[1].apply(str).apply(slice_from_behind, num_of_chars=500)\n",
    "test_data[1] = test_data[1].apply(str).apply(slice_from_behind, num_of_chars=500)\n",
    "\n",
    "test_data.head()"
   ]
  },
  {
   "cell_type": "code",
   "execution_count": 7,
   "metadata": {},
   "outputs": [],
   "source": [
    "# to tsv\n",
    "train_data.to_csv('train.clean.tok.slice.tsv', sep='\\t', encoding='utf-8', index=False, header=None)\n",
    "test_data.to_csv('test.clean.tok.slice.tsv', sep='\\t', encoding='utf-8', index=False, header=None)"
   ]
  },
  {
   "cell_type": "code",
   "execution_count": null,
   "metadata": {},
   "outputs": [],
   "source": []
  }
 ],
 "metadata": {
  "interpreter": {
   "hash": "1da4c34da46d8a3ce95549336a5e1443c281541918097fc494bfd329fa009142"
  },
  "kernelspec": {
   "display_name": "Python 3.7.12 64-bit ('ml-3.7.12')",
   "language": "python",
   "name": "python3"
  },
  "language_info": {
   "codemirror_mode": {
    "name": "ipython",
    "version": 3
   },
   "file_extension": ".py",
   "mimetype": "text/x-python",
   "name": "python",
   "nbconvert_exporter": "python",
   "pygments_lexer": "ipython3",
   "version": "3.7.12"
  },
  "orig_nbformat": 4
 },
 "nbformat": 4,
 "nbformat_minor": 2
}
