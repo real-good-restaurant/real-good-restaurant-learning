{
 "cells": [
  {
   "cell_type": "code",
   "execution_count": 17,
   "metadata": {},
   "outputs": [
    {
     "data": {
      "text/html": [
       "<div>\n",
       "<style scoped>\n",
       "    .dataframe tbody tr th:only-of-type {\n",
       "        vertical-align: middle;\n",
       "    }\n",
       "\n",
       "    .dataframe tbody tr th {\n",
       "        vertical-align: top;\n",
       "    }\n",
       "\n",
       "    .dataframe thead th {\n",
       "        text-align: right;\n",
       "    }\n",
       "</style>\n",
       "<table border=\"1\" class=\"dataframe\">\n",
       "  <thead>\n",
       "    <tr style=\"text-align: right;\">\n",
       "      <th></th>\n",
       "      <th>0</th>\n",
       "      <th>1</th>\n",
       "    </tr>\n",
       "  </thead>\n",
       "  <tbody>\n",
       "    <tr>\n",
       "      <th>0</th>\n",
       "      <td>AD</td>\n",
       "      <td>힙하다 힙해!부산 버거샵이 압구정로데오로 ~!핫하다 핫해! 오늘은 압구정로데오 맛집...</td>\n",
       "    </tr>\n",
       "    <tr>\n",
       "      <th>1</th>\n",
       "      <td>AD</td>\n",
       "      <td>흥안양꼬치051-516-1181부산 금정구 수림로71번길 49(장전동)50m© NA...</td>\n",
       "    </tr>\n",
       "    <tr>\n",
       "      <th>2</th>\n",
       "      <td>AD</td>\n",
       "      <td>훗안녕하세요!! 제가 좋아하는 꼬기 꼬기 먹고왔어요!전 웬만하면 고기 퀄리티 때문에...</td>\n",
       "    </tr>\n",
       "    <tr>\n",
       "      <th>3</th>\n",
       "      <td>AD</td>\n",
       "      <td>회장님댁오랜만에 서면 1번가에서친구랑 놀다 왔어용 :)역시 하루의 마무리는 alco...</td>\n",
       "    </tr>\n",
       "    <tr>\n",
       "      <th>4</th>\n",
       "      <td>AD</td>\n",
       "      <td>회사 점심이 맛이 없어서밖에서 나가서 먹기로 결정!강서브라이트센터 길 건너에 골목 ...</td>\n",
       "    </tr>\n",
       "  </tbody>\n",
       "</table>\n",
       "</div>"
      ],
      "text/plain": [
       "    0                                                  1\n",
       "0  AD  힙하다 힙해!부산 버거샵이 압구정로데오로 ~!핫하다 핫해! 오늘은 압구정로데오 맛집...\n",
       "1  AD  흥안양꼬치051-516-1181부산 금정구 수림로71번길 49(장전동)50m© NA...\n",
       "2  AD  훗안녕하세요!! 제가 좋아하는 꼬기 꼬기 먹고왔어요!전 웬만하면 고기 퀄리티 때문에...\n",
       "3  AD  회장님댁오랜만에 서면 1번가에서친구랑 놀다 왔어용 :)역시 하루의 마무리는 alco...\n",
       "4  AD  회사 점심이 맛이 없어서밖에서 나가서 먹기로 결정!강서브라이트센터 길 건너에 골목 ..."
      ]
     },
     "execution_count": 17,
     "metadata": {},
     "output_type": "execute_result"
    }
   ],
   "source": [
    "import pandas as pd\n",
    "\n",
    "# import data\n",
    "ad = pd.read_csv('./data_ad_all.csv', sep=',', encoding='utf-8', header=None)\n",
    "no_ad = pd.read_csv('./data_non_ad_all.csv', sep=',', encoding='utf-8', header=None)\n",
    "\n",
    "ad.head()"
   ]
  },
  {
   "cell_type": "code",
   "execution_count": 18,
   "metadata": {},
   "outputs": [
    {
     "data": {
      "text/plain": [
       "0    힙하다 힙해!부산 버거샵이 압구정로데오로 ~!핫하다 핫해! 오늘은 압구정로데오 맛집...\n",
       "1    흥안양꼬치051-516-1181부산 금정구 수림로71번길 49(장전동)50m© NA...\n",
       "2    훗안녕하세요!! 제가 좋아하는 꼬기 꼬기 먹고왔어요!전 웬만하면 고기 퀄리티 때문에...\n",
       "3    회장님댁오랜만에 서면 1번가에서친구랑 놀다 왔어용 :)역시 하루의 마무리는 alco...\n",
       "4    회사 점심이 맛이 없어서밖에서 나가서 먹기로 결정!강서브라이트센터 길 건너에 골목 ...\n",
       "Name: 1, dtype: object"
      ]
     },
     "execution_count": 18,
     "metadata": {},
     "output_type": "execute_result"
    }
   ],
   "source": [
    "# split data\n",
    "X_ad = ad[1]\n",
    "y_ad = ad[0]\n",
    "X_no_ad = no_ad[1]\n",
    "y_no_ad = no_ad[0]\n",
    "\n",
    "X_ad.head()"
   ]
  },
  {
   "cell_type": "code",
   "execution_count": 20,
   "metadata": {},
   "outputs": [],
   "source": [
    "from sklearn.model_selection import train_test_split\n",
    "\n",
    "# 데이터 분리 \n",
    "X_ad_train, X_ad_test, y_ad_train, y_ad_test = train_test_split(X_ad, y_ad, test_size=0.3, shuffle=True, random_state=1)\n",
    "X_no_ad_train, X_no_ad_test, y_no_ad_train, y_no_ad_test = train_test_split(X_no_ad, y_no_ad, test_size=0.3, shuffle=True, random_state=1)"
   ]
  },
  {
   "cell_type": "code",
   "execution_count": 21,
   "metadata": {},
   "outputs": [
    {
     "name": "stdout",
     "output_type": "stream",
     "text": [
      "9638    여러분!제가 처음으로 스티커를 사보았습니다. 오늘의 포스팅은 신나는 마음에 스티커를...\n",
      "3424    남자친구랑 경주로 놀러갔다가발견한 맛집!!!!!!!밀면과 만두의 조합이끝내주는 곳으...\n",
      "1227    본강남면옥 인천 남동구 남동대로 799번길 44 1층 인천시청역 5번출구에서 650...\n",
      "1079    안녕하세요, 킹새댁입니다👑고기가 땡기는데 남편혹은 연인과분위기도 즐기고 싶은 그런 ...\n",
      "3842    오늘은 오랜만에 홍대 데이트~홍대에 건강하고 맛있는 디저트를 만드는 카페가 있다고 ...\n",
      "Name: 1, dtype: object\n",
      "(16305,)\n"
     ]
    }
   ],
   "source": [
    "X_train = pd.concat([X_ad_train, X_no_ad_train])\n",
    "X_test = pd.concat([X_ad_test, X_no_ad_test])\n",
    "y_train = pd.concat([y_ad_train, y_no_ad_train])\n",
    "y_test = pd.concat([y_ad_test, y_no_ad_test])\n",
    "print(X_train.head())\n",
    "print(X_train.shape)"
   ]
  },
  {
   "cell_type": "code",
   "execution_count": 23,
   "metadata": {},
   "outputs": [
    {
     "name": "stdout",
     "output_type": "stream",
     "text": [
      "(1365,)\n",
      "(673,)\n"
     ]
    }
   ],
   "source": [
    "X_test, X_test_real, y_test, y_test_real = train_test_split(X_test, y_test, test_size=0.33, shuffle=True, random_state=1)\n",
    "print(X_test.shape)\n",
    "print(X_test_real.shape)"
   ]
  },
  {
   "cell_type": "code",
   "execution_count": 24,
   "metadata": {},
   "outputs": [
    {
     "name": "stdout",
     "output_type": "stream",
     "text": [
      "       0                                                  1\n",
      "9638  AD  여러분!제가 처음으로 스티커를 사보았습니다. 오늘의 포스팅은 신나는 마음에 스티커를...\n",
      "3424  AD  남자친구랑 경주로 놀러갔다가발견한 맛집!!!!!!!밀면과 만두의 조합이끝내주는 곳으...\n",
      "1227  AD  본강남면옥 인천 남동구 남동대로 799번길 44 1층 인천시청역 5번출구에서 650...\n",
      "1079  AD  안녕하세요, 킹새댁입니다👑고기가 땡기는데 남편혹은 연인과분위기도 즐기고 싶은 그런 ...\n",
      "3842  AD  오늘은 오랜만에 홍대 데이트~홍대에 건강하고 맛있는 디저트를 만드는 카페가 있다고 ...\n",
      "          0                                                  1\n",
      "1571     AD  코다리조림 ... 맛있겠죠? 맛있겠죠??적당히 매콤한 맛이 일품 !코다리 자체도 맛...\n",
      "5231     AD  경기도로 이사오고 가장 먼저 들른 곳이 롯데월드 잠실점이예요. 근처 맛있는 베트남식...\n",
      "1124     AD  안녕하세요 죠니입니다! 여러븐....제가 #강남소고기 #강남소고기맛집 을 여러군데를...\n",
      "7449     AD  요즘 코로나 때문에 모두들 힘드시죠?이럴때일수록 잘 챙겨먹어야 하는데요맛있는것좀 먹...\n",
      "2680  NO_AD  경남 남해군 창선면 동부대로 1946매일 09:00 - 21:00055  867 4...\n",
      "(16305, 2)\n",
      "(1365, 2)\n"
     ]
    }
   ],
   "source": [
    "train_data = pd.concat([y_train, X_train], axis=1)\n",
    "test_data = pd.concat([y_test, X_test], axis=1)\n",
    "real_test_data = pd.concat([y_test_real, X_test_real], axis=1)\n",
    "\n",
    "print(train_data.head())\n",
    "print(test_data.head())\n",
    "print(train_data.shape)\n",
    "print(test_data.shape)"
   ]
  },
  {
   "cell_type": "code",
   "execution_count": 25,
   "metadata": {},
   "outputs": [],
   "source": [
    "from konlpy.tag import Mecab\n",
    "import re\n",
    "\n",
    "mecab = Mecab()\n",
    "\n",
    "def mecab_tokenize(text):\n",
    "    \"\"\"\n",
    "        Mecab을 사용하여 tokenized text 반환\n",
    "    \"\"\"\n",
    "    return \" \".join(mecab.morphs(text))\n",
    "\n",
    "def clean_etc_reg_ex(title):\n",
    "    \"\"\"\n",
    "        정규식을 통해 기타 공백과 기호, 숫자등을 제거\n",
    "    \"\"\"\n",
    "    title = re.sub(r'[@%\\\\*=()/~#&\\+á?\\xc3\\xa1\\-\\|\\.\\:\\;\\!\\-\\,\\_\\~\\$\\'\\\"]', '', title) #remove punctuation\n",
    "    title = re.sub(r'[∼%①②⑤⑪…→·]', '', title)\n",
    "    title = re.sub(r'\\d+', '', title) #remove number\n",
    "    title = re.sub(r'\\s+', ' ', title) #remove extra space\n",
    "    title = re.sub(r'<[^>]+>','',title) #remove Html tags\n",
    "    title = re.sub(r'\\s+', ' ', title) #remove spaces\n",
    "    title = re.sub(r\"^\\s+\", '', title) #remove space from start\n",
    "    title = re.sub(r'\\s+$', '', title) #remove space from the end\n",
    "    title = re.sub(\"[一-龥]\",'', title)\n",
    "    return title\n",
    "\n",
    "def label_to_idx(label, dic):\n",
    "    return dic[label]"
   ]
  },
  {
   "cell_type": "code",
   "execution_count": 26,
   "metadata": {},
   "outputs": [],
   "source": [
    "# 특수기호 제거\n",
    "train_data[1] = train_data[1].apply(str).apply(clean_etc_reg_ex)\n",
    "test_data[1] = test_data[1].apply(str).apply(clean_etc_reg_ex)\n",
    "real_test_data[1] = real_test_data[1].apply(str).apply(clean_etc_reg_ex)\n",
    "\n",
    "# label to idx\n",
    "train_data[0] = train_data[0].apply(label_to_idx, dic={\"AD\":\"1\", \"NO_AD\":\"0\"})\n",
    "test_data[0] = test_data[0].apply(label_to_idx, dic={\"AD\":\"1\", \"NO_AD\":\"0\"})\n",
    "real_test_data[0] = real_test_data[0].apply(label_to_idx, dic={\"AD\":\"1\", \"NO_AD\":\"0\"})\n",
    "\n",
    "test_data.head()\n",
    "\n",
    "train_data.to_csv('train.clean.tsv', sep='\\t', encoding='utf-8', index=False, header=None)\n",
    "test_data.to_csv('test.clean.tsv', sep='\\t', encoding='utf-8', index=False, header=None)\n",
    "test_data.to_csv('real_test.clean.tsv', sep='\\t', encoding='utf-8', index=False, header=None)"
   ]
  },
  {
   "cell_type": "code",
   "execution_count": 27,
   "metadata": {},
   "outputs": [],
   "source": [
    "# mecab tokenize\n",
    "\n",
    "train_data[1] = train_data[1].apply(str).apply(mecab_tokenize)\n",
    "test_data[1] = test_data[1].apply(str).apply(mecab_tokenize)\n",
    "\n",
    "test_data.head()\n",
    "\n",
    "train_data.to_csv('train.clean.tok.tsv', sep='\\t', encoding='utf-8', index=False, header=None)\n",
    "test_data.to_csv('test.clean.tok.tsv', sep='\\t', encoding='utf-8', index=False, header=None)"
   ]
  }
 ],
 "metadata": {
  "interpreter": {
   "hash": "1da4c34da46d8a3ce95549336a5e1443c281541918097fc494bfd329fa009142"
  },
  "kernelspec": {
   "display_name": "Python 3.7.12 64-bit ('ml-3.7.12')",
   "language": "python",
   "name": "python3"
  },
  "language_info": {
   "codemirror_mode": {
    "name": "ipython",
    "version": 3
   },
   "file_extension": ".py",
   "mimetype": "text/x-python",
   "name": "python",
   "nbconvert_exporter": "python",
   "pygments_lexer": "ipython3",
   "version": "3.7.12"
  },
  "orig_nbformat": 4
 },
 "nbformat": 4,
 "nbformat_minor": 2
}
